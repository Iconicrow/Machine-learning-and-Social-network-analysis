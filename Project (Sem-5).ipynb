{
 "cells": [
  {
   "cell_type": "code",
   "execution_count": 24,
   "id": "1ad1d1fd",
   "metadata": {},
   "outputs": [],
   "source": [
    "import networkx as nx\n",
    "from operator import truediv\n",
    "from scipy.sparse import csr_matrix\n",
    "import math\n",
    "import random\n",
    "from collections import Counter\n",
    "from itertools import combinations\n",
    "from collections import defaultdict\n",
    "from tqdm import tqdm\n"
   ]
  },
  {
   "cell_type": "code",
   "execution_count": 25,
   "id": "a55b6145",
   "metadata": {},
   "outputs": [],
   "source": [
    "mygraph = nx.read_gml('sem5.gml',label='id')\n"
   ]
  },
  {
   "cell_type": "code",
   "execution_count": 26,
   "id": "d3ea218d",
   "metadata": {},
   "outputs": [],
   "source": [
    "e=list(mygraph.edges())\n",
    "L=list(mygraph.nodes())\n",
    "edge_list = list(combinations(L, 2))\n",
    "R1=[l[0] for l in edge_list]\n",
    "R2=[l[1] for l in edge_list]\n",
    "r1 = [lis[0] for lis in e]\n",
    "r2 = [lis[1] for lis in e]"
   ]
  },
  {
   "cell_type": "code",
   "execution_count": 27,
   "id": "58f2da5f",
   "metadata": {},
   "outputs": [
    {
     "name": "stdout",
     "output_type": "stream",
     "text": [
      "[9, 8, 4, 15, 13, 10, 11, 7, 7, 6, 10, 10, 16, 2, 16, 8, 10, 5, 8, 17, 5, 14, 17, 11, 3, 5, 18, 0, 11, 16, 8, 12, 5, 18, 15, 17, 15, 8, 10, 7, 8, 5, 2, 2, 1, 16, 20, 23, 17, 17, 5, 7, 2, 2, 6, 2, 5, 0, 0, 0, 0, 0, 0, 6, 14, 9, 12, 22, 12, 7, 12, 0, 9, 9, 6, 15, 5, 11, 10, 17, 10, 2, 27, 13, 10, 5, 13, 14, 7, 10, 0, 7, 7, 3, 0, 5, 0, 7, 5, 0, 5, 17, 15, 14, 13, 14, 7, 12, 6, 8, 0, 9, 3, 7, 11, 0, 4, 4, 4, 9, 2, 0, 0, 0, 0, 0, 0, 0]\n"
     ]
    }
   ],
   "source": [
    "def DegreeofN(G,l):\n",
    "    F2=[]\n",
    "    for i in range(len(G.nodes)):\n",
    "        a=mygraph.degree[l[i]]\n",
    "        F2.append(a)\n",
    "    return F2\n",
    "F1=DegreeofN(mygraph,L)\n",
    "print(F1)"
   ]
  },
  {
   "cell_type": "code",
   "execution_count": 28,
   "id": "a5a0b7e9",
   "metadata": {},
   "outputs": [],
   "source": [
    "# Networkx appears not to implement their eigenvector centrality algorithm for MultiDiGraph objects, so you'd have to convert your object like:\n",
    "G2 = nx.DiGraph(mygraph)\n",
    "def Eigen_Centrality(G2):\n",
    "    centrality = nx.eigenvector_centrality(G2, max_iter=1000)\n",
    "    return list(centrality.values())\n",
    "F4=Eigen_Centrality(G2)"
   ]
  },
  {
   "cell_type": "code",
   "execution_count": 29,
   "id": "29a18995",
   "metadata": {},
   "outputs": [],
   "source": [
    "def Betweeness(G):\n",
    "    betweeness = nx.betweenness_centrality(G)\n",
    "    return list(betweeness.values())\n",
    "F5=Betweeness(mygraph)"
   ]
  },
  {
   "cell_type": "code",
   "execution_count": 30,
   "id": "41c2b6a6",
   "metadata": {},
   "outputs": [],
   "source": [
    "G2 = nx.DiGraph(mygraph)\n",
    "def Clustering(G):\n",
    "    clustering_coeff =nx.clustering(G)\n",
    "    return list(clustering_coeff.values())\n",
    "F6=Clustering(G2)"
   ]
  },
  {
   "cell_type": "markdown",
   "id": "52fcb328",
   "metadata": {},
   "source": [
    "Node Conductivity\n",
    "Betweenness divided by Degree: which nodes can reach the most nodes in the different parts of the network faster with the least connections. Nodes with a high conductivity will tend to be better connected to the different distinct groups of nodes. They are reaching for global connections instead of the local ones. "
   ]
  },
  {
   "cell_type": "code",
   "execution_count": 31,
   "id": "d515b7c5",
   "metadata": {},
   "outputs": [
    {
     "name": "stdout",
     "output_type": "stream",
     "text": [
      "128\n"
     ]
    }
   ],
   "source": [
    "NC = []\n",
    "def nodeConductivity(l):\n",
    "    count=0\n",
    "    for i in range(0, len(l)):\n",
    "        if F1[i] == 0:\n",
    "            NC.append(0)\n",
    "        else:\n",
    "            NC.append(F5[i]/F1[i])\n",
    "        count=count+1\n",
    "    return NC\n",
    "F7=nodeConductivity(L)\n",
    "print(len(F7))"
   ]
  },
  {
   "cell_type": "markdown",
   "id": "6ee018b4",
   "metadata": {},
   "source": [
    "Node Locality\n",
    "Degree squared divided by Betweenness: Local influencers with the least global connections. Nodes with high locality measure will tend to have more connections within their local group of nodes."
   ]
  },
  {
   "cell_type": "code",
   "execution_count": 32,
   "id": "6defa16f",
   "metadata": {},
   "outputs": [
    {
     "name": "stdout",
     "output_type": "stream",
     "text": [
      "128\n"
     ]
    }
   ],
   "source": [
    "def nodeLocality(l):\n",
    "    NL=[]\n",
    "    for i in range(len(l)):\n",
    "        count=0\n",
    "        if F1[i] == 0:\n",
    "            NL.append(0)\n",
    "        else:\n",
    "            temp=math.sqrt(F1[i])\n",
    "            NL.append(F5[i]/temp)\n",
    "        count=count+1\n",
    "    return NL\n",
    "F8=nodeLocality(L)\n",
    "print(len(F8))"
   ]
  },
  {
   "cell_type": "code",
   "execution_count": 33,
   "id": "12812d3b",
   "metadata": {},
   "outputs": [
    {
     "name": "stdout",
     "output_type": "stream",
     "text": [
      "[9, 8, 4, 15, 13, 10, 11, 7, 7, 6, 10, 10, 16, 2, 16, 8, 10, 5, 8, 17, 5, 14, 17, 11, 3, 5, 18, 0, 11, 16, 8, 12, 5, 18, 15, 17, 15, 8, 10, 7, 8, 5, 2, 2, 1, 16, 20, 23, 17, 17, 5, 7, 2, 2, 6, 2, 5, 0, 0, 0, 0, 0, 0, 6, 14, 9, 12, 22, 12, 7, 12, 0, 9, 9, 6, 15, 5, 11, 10, 17, 10, 2, 27, 13, 10, 5, 13, 14, 7, 10, 0, 7, 7, 3, 0, 5, 0, 7, 5, 0, 5, 17, 15, 14, 13, 14, 7, 12, 6, 8, 0, 9, 3, 7, 11, 0, 4, 4, 4, 9, 2, 0, 0, 0, 0, 0, 0, 0]\n"
     ]
    }
   ],
   "source": [
    "print(F1)"
   ]
  },
  {
   "cell_type": "code",
   "execution_count": 42,
   "id": "2fad0f6e",
   "metadata": {},
   "outputs": [
    {
     "name": "stdout",
     "output_type": "stream",
     "text": [
      "[0.09189672807949423, 0.009536450648674704, 0.005999250093738282, 0.004901358872535376, 0.027652666245493486, 0.005697204516102149, 0.06441936668016, 0.0013325439890069235, 0.0022659369959707417, 0.0169769185282403, 0.01778588257677479, 0.02249373990723332, 0.1488431964950923, 0.0, 0.027653481336725443, 0.0004065439760977819, 0.0064116275415496676, 2.043013854037476e-05, 0.13556037807774068, 0.019145123489621423, 3.8136258608699554e-05, 0.017747374660482994, 0.13910492587716639, 0.020199220264033365, 0.007909062774079647, 0.03735812089857447, 0.049441200863363795, 0.0, 0.11376615885896642, 0.04204343566753192, 0.0, 0.006245635977608822, 0.0011513712301113874, 0.011058999898072684, 0.05389206484105056, 0.010701944685374425, 0.008270289509675439, 0.03623927328415192, 0.0024292190882873265, 0.019572933950105897, 0.02442554217019908, 0.011748531433570802, 0.0, 0.0, 0.0, 0.009973514944109382, 0.011030529613646435, 0.01388159341056558, 0.04697164197073084, 0.010719631826426256, 0.0011513712301113874, 0.005874265716785401, 0.0, 0.0, 0.0006745864919843171, 0.0, 0.005675500172339742, 0.0, 0.0, 0.0, 0.0, 0.0, 0.0, 0.006519249459276687, 0.08220011061286611, 0.024611229067834344, 0.022000466829092007, 0.03335838457276051, 0.02219327063583664, 0.01133689818211959, 0.05307456720783344, 0.0, 0.07665775730302204, 0.013419850249029495, 0.0017588183317467155, 0.05082723451766935, 0.008035832103629547, 0.0028340207474065733, 0.0012883806190892805, 0.03553836730716735, 0.0035974621276458544, 0.0, 0.18982012265863307, 0.06994691773222741, 0.0012883806190892805, 0.012217222847144106, 0.040618958188965916, 0.026854843496842175, 0.000529100529100529, 0.024824875454402033, 0.0, 0.007858155964346638, 0.007858155964346638, 0.0, 0.0, 6.249218847644044e-05, 0.0, 0.006496757349775722, 0.0, 0.0, 0.042250580350102714, 0.019043200408029797, 0.0, 4.9993750781152357e-05, 0.0, 4.9993750781152357e-05, 0.020588926203849334, 2.4996875390576178e-05, 0.032358914116511206, 0.07602110241178013, 0.0, 0.01507994421420627, 0.0, 0.03587051618547681, 0.024561785808899655, 0.0, 0.0031871016122984623, 0.005874265716785401, 0.0031871016122984623, 0.05811601495560119, 0.0, 0.0, 0.0, 0.0, 0.0, 0.0, 0.0, 0.0]\n"
     ]
    }
   ],
   "source": [
    "print(F5)"
   ]
  },
  {
   "cell_type": "code",
   "execution_count": 44,
   "id": "0e1f3546",
   "metadata": {},
   "outputs": [
    {
     "name": "stdout",
     "output_type": "stream",
     "text": [
      "[48, 93, 95, 46, 85, 89, 48, 78, 87, 37, 71, 73, 40, 66, 73, 46, 49, 71, 44, 78, 83, 45, 90, 90, 82, 47, 87, 91, 46, 90, 91, 45, 80, 85, 47, 82, 88, 48, 75, 86, 40, 44, 62, 36, 64, 68, 46, 64, 78, 81, 47, 82, 88, 43, 75, 81, 46, 88, 90, 45, 71, 81, 46, 76, 84, 85, 42, 83, 84, 40, 88, 84, 49, 93, 96, 44, 71, 80, 47, 83, 89, 87]\n",
      "5666\n"
     ]
    }
   ],
   "source": [
    "node_attributes = list(mygraph.nodes[1].values())[10:]\n",
    "node_attributes.remove('A')\n",
    "print(node_attributes)\n",
    "s= sum(node_attributes)\n",
    "print(s)"
   ]
  },
  {
   "cell_type": "code",
   "execution_count": 45,
   "id": "43c85d01",
   "metadata": {},
   "outputs": [
    {
     "name": "stdout",
     "output_type": "stream",
     "text": [
      "128\n"
     ]
    }
   ],
   "source": [
    "print(len(L))"
   ]
  },
  {
   "cell_type": "code",
   "execution_count": 68,
   "id": "69eebe90",
   "metadata": {},
   "outputs": [
    {
     "name": "stdout",
     "output_type": "stream",
     "text": [
      "{'name': '127', 'Gender': 'male', 'LateralEntry': 0, 'Backlog': 0, 'ProjectPartner3rdSem': '0', 'ProjectPartner4thSem': 0, 'PCP': 0, 'TFCS': 0, 'DMS': 0, 'DS': 0, 'Maths1CIE': 0, 'Maths1SEE': 0, 'Maths1Final': 0, 'ChemCIE': 0, 'ChemSEE': 0, 'ChemFinal': 0, 'BEECIE': 0, 'BEESEE': 0, 'BEEFinal': 0, 'EEDCIE': 0, 'EEDSEE': 0, 'EEDFinal': 0, 'ENMCIE': 0, 'ENMSEE': 0, 'ENMFinal': 0, 'Colab2CIE': 0, 'Colab2SEE': 0, 'Colab2Final': 0, 'EYSCIE': 0, 'EYSSEE': 0, 'EYSFinal': 0, 'CIPCIE': 0, 'CIPSEE': 0, 'CIPFinal': 0, 'X1stSemPercentage': 0, 'Maths2CIE': 0, 'Maths2SEE': 0, 'Maths2Final': 0, 'PHYCIE': 0, 'PHYSEE': 0, 'PHYFinal': 0, 'EEECIE': 0, 'EEESEE': 0, 'EEEFinal': 0, 'EMECIE': 0, 'EMESEE': 0, 'EMEFinal': 0, 'CCPCIE': 0, 'CCPSEE': 0, 'CCPFinal': 0, 'Colab1CIE': 0, 'Colab1SEE': 0, 'Colab1Final': 0, 'BIECIE': 0, 'BIESEE': 0, 'BIEFinal': 0, 'PDCCIE': 0, 'PDCSEE': 0, 'PDCFinal': 0, 'X2ndSemPercentage': 0, 'Section': 'B', 'PCPCIE': 0, 'PCPSEE': 0, 'PCPFinal': 0, 'TFCCIE': 0, 'TFCSEE': 0, 'TFCFinal': 0, 'DMSCIE': 0, 'DMSSEE': 0, 'DMSFinal': 0, 'COECIE': 0, 'COESEE': 0, 'COEFinal': 0, 'DSCIE': 0, 'DSSEE': 0, 'DSFinal': 0, 'X3rdSemPercentage': 0, 'Maths4CIE': 0, 'Maths4SEE': 0, 'Maths4Final': 0, 'USPCIE': 0, 'USPSEE': 0, 'USPFinal': 0, 'ADACIE': 0, 'ADASEE': 0, 'ADAFinal': 0, 'PSQCIE': 0, 'PSQSEE': 0, 'PSQFinal': 0, 'OSCIE': 0, 'OSSEE': 0, 'OSFinal': 0, 'X4thSemPercentage': 0}\n"
     ]
    }
   ],
   "source": [
    "print(mygraph.nodes[126])"
   ]
  },
  {
   "cell_type": "code",
   "execution_count": 70,
   "id": "e15855a7",
   "metadata": {},
   "outputs": [
    {
     "name": "stdout",
     "output_type": "stream",
     "text": [
      "[0, 0, 0, 0, 0, 0, 0, 0, 0, 0, 0, 0, 0, 0, 0, 0, 0, 0, 0, 0, 0, 0, 0, 0, 0, 0, 0, 0, 0, 0, 0, 0, 0, 0, 0, 0, 0, 0, 0, 0, 0, 0, 0, 0, 0, 0, 0, 0, 0, 0, 0, 0, 0, 0, 0, 0, 0, 0, 0, 0, 0, 0, 0, 0, 0, 0, 0, 0, 0, 0, 0, 0, 0, 0, 0, 0, 0, 0, 0, 0, 0, 0]\n"
     ]
    }
   ],
   "source": [
    "print(node_attributes)"
   ]
  },
  {
   "cell_type": "code",
   "execution_count": 72,
   "id": "9a4630b3",
   "metadata": {},
   "outputs": [
    {
     "name": "stdout",
     "output_type": "stream",
     "text": [
      "[59.96341463414634, 69.09756097560975, 50.329268292682926, 59.78048780487805, 40.78048780487805, 60.53658536585366, 73.82926829268293, 60.58536585365854, 68.54878048780488, 55.048780487804876, 42.18292682926829, 70.14634146341463, 75.97560975609755, 38.52439024390244, 56.68292682926829, 44.146341463414636, 60.68292682926829, 51.90243902439025, 56.8780487804878, 62.8780487804878, 58.6219512195122, 66.6219512195122, 67.42682926829268, 52.68292682926829, 39.19512195121951, 73.8780487804878, 56.02439024390244, 59.951219512195124, 66.63414634146342, 49.1219512195122, 47.15853658536585, 56.13414634146341, 63.292682926829265, 64.96341463414635, 62.91463414634146, 67.70731707317073, 60.390243902439025, 63.5, 51.19512195121951, 67.70731707317073, 71.53658536585365, 58.69512195121951, 59.78048780487805, 49.292682926829265, 51.0, 43.74390243902439, 62.65853658536585, 42.96341463414634, 45.28048780487805, 64.85365853658537, 59.15853658536585, 28.121951219512194, 15.390243902439025, 16.817073170731707, 24.853658536585368, 21.48780487804878, 16.024390243902438, 16.073170731707318, 17.402439024390244, 15.414634146341463, 21.829268292682926, 16.463414634146343, 4.951219512195122, 62.53658536585366, 73.6829268292683, 61.170731707317074, 56.426829268292686, 43.68292682926829, 50.21951219512195, 66.2439024390244, 65.47560975609755, 61.829268292682926, 66.17073170731707, 61.71951219512195, 64.41463414634147, 65.40243902439025, 58.36585365853659, 54.26829268292683, 54.926829268292686, 65.3048780487805, 48.6219512195122, 54.890243902439025, 70.4390243902439, 62.47560975609756, 58.36585365853659, 68.64634146341463, 51.353658536585364, 60.73170731707317, 65.86585365853658, 64.82926829268293, 41.53658536585366, 63.36585365853659, 69.57317073170732, 53.24390243902439, 66.08536585365853, 57.01219512195122, 37.1219512195122, 68.8780487804878, 61.40243902439025, 56.80487804878049, 45.81707317073171, 36.25609756097561, 31.573170731707318, 44.81707317073171, 44.292682926829265, 42.25609756097561, 44.0609756097561, 39.68292682926829, 17.4390243902439, 42.170731707317074, 14.634146341463415, 17.548780487804876, 21.329268292682926, 10.646341463414634, 23.841463414634145, 21.51219512195122, 14.548780487804878, 23.48780487804878, 0.0, 15.426829268292684, 15.658536585365853, 0.0, 0.0, 0.0, 0.0, 0.0, 0.0, 0.0]\n"
     ]
    }
   ],
   "source": [
    "def avg(lst):\n",
    "    S = sum(lst)\n",
    "    l=len(lst)\n",
    "    average =S/l\n",
    "    return average\n",
    "percent=[]\n",
    "\n",
    "for i in range(len(L)):\n",
    "    node_attributes = list(mygraph.nodes[i].values())[10:]\n",
    "    del node_attributes[50]\n",
    "    percent.append(avg(node_attributes))\n",
    "print(percent)"
   ]
  },
  {
   "cell_type": "code",
   "execution_count": 59,
   "id": "418418ce",
   "metadata": {},
   "outputs": [
    {
     "name": "stdout",
     "output_type": "stream",
     "text": [
      "50\n",
      "[48, 93, 95, 46, 85, 89, 48, 78, 87, 37, 71, 73, 40, 66, 73, 46, 49, 71, 44, 78, 83, 45, 90, 90, 82, 47, 87, 91, 46, 90, 91, 45, 80, 85, 47, 82, 88, 48, 75, 86, 40, 44, 62, 36, 64, 68, 46, 64, 78, 81, 47, 82, 88, 43, 75, 81, 46, 88, 90, 45, 71, 81, 46, 76, 84, 85, 42, 83, 84, 40, 88, 84, 49, 93, 96, 44, 71, 80, 47, 83, 89, 87]\n"
     ]
    }
   ],
   "source": [
    "node_attributes = list(mygraph.nodes[1].values())[10:]\n",
    "print(node_attributes.index('A'))\n",
    "del node_attributes[50]\n",
    "print(node_attributes)"
   ]
  },
  {
   "cell_type": "code",
   "execution_count": 60,
   "id": "6b09c0c9",
   "metadata": {},
   "outputs": [
    {
     "data": {
      "image/png": "[encoded data removed]",
      "text/plain": [
       "<Figure size 432x288 with 1 Axes>"
      ]
     },
     "metadata": {
      "needs_background": "light"
     },
     "output_type": "display_data"
    }
   ],
   "source": [
    "import matplotlib.pyplot as plt\n",
    "\n",
    "# Plot line graph\n",
    "plt.bar(percent, F1)\n",
    "\n",
    "# Add labels and title\n",
    "plt.xlabel('percentage')\n",
    "plt.ylabel('degree')\n",
    "plt.title('bar graph')\n",
    "\n",
    "# Show plot\n",
    "plt.show()\n"
   ]
  },
  {
   "cell_type": "code",
   "execution_count": 61,
   "id": "057d0290",
   "metadata": {},
   "outputs": [
    {
     "data": {
      "image/png": "[encoded data removed]",
      "text/plain": [
       "<Figure size 1800x360 with 5 Axes>"
      ]
     },
     "metadata": {
      "needs_background": "light"
     },
     "output_type": "display_data"
    },
    {
     "data": {
      "text/plain": [
       "<Figure size 432x288 with 0 Axes>"
      ]
     },
     "metadata": {},
     "output_type": "display_data"
    }
   ],
   "source": [
    "import matplotlib.pyplot as plt\n",
    "import numpy as np\n",
    "\n",
    "# generate some data\n",
    "x = percent\n",
    "y1 = F1\n",
    "y2 = F4\n",
    "y3 = F5\n",
    "y4 = F6\n",
    "y5 = F7\n",
    "y6 = F8\n",
    "\n",
    "# create a figure and 5 subplots\n",
    "fig, axs = plt.subplots(1, 5, figsize=(25, 5))\n",
    "axs[0].bar(x, y1)\n",
    "axs[1].bar(x, y2)\n",
    "axs[2].bar(x, y3)\n",
    "axs[3].bar(x, y4)\n",
    "axs[4].bar(x, y5)\n",
    "# axs[5].bar(x, y6)\n",
    "# Set titles and axis labels for the subplots\n",
    "axs[0].set_title('Degree')\n",
    "axs[1].set_title('Eigen Vector')\n",
    "axs[2].set_title('Betweeness')\n",
    "axs[3].set_title('Clustering')\n",
    "axs[4].set_title('Node Conductivity')\n",
    "# axs[5].set_title('Node locality')\n",
    "axs[0].set_xlabel('Percentage')\n",
    "axs[0].set_ylabel('Feature')\n",
    "axs[0].set_xlim(0, 80)\n",
    "axs[1].set_xlim(0, 80)\n",
    "axs[2].set_xlim(0, 80)\n",
    "axs[3].set_xlim(0, 80)\n",
    "axs[4].set_xlim(0, 80)\n",
    "\n",
    "# Show the plot\n",
    "plt.show()\n",
    "\n",
    "\n",
    "# adjust the layout\n",
    "plt.tight_layout()\n",
    "\n",
    "# show the plot\n",
    "plt.show()\n"
   ]
  },
  {
   "cell_type": "code",
   "execution_count": 62,
   "id": "62acd69a",
   "metadata": {},
   "outputs": [],
   "source": [
    "name =mygraph.nodes[1]['Section']"
   ]
  },
  {
   "cell_type": "code",
   "execution_count": 63,
   "id": "360339ba",
   "metadata": {},
   "outputs": [
    {
     "name": "stdout",
     "output_type": "stream",
     "text": [
      "128\n"
     ]
    }
   ],
   "source": [
    "print(len(F7))"
   ]
  },
  {
   "cell_type": "code",
   "execution_count": 75,
   "id": "f8761b7d",
   "metadata": {},
   "outputs": [
    {
     "data": {
      "image/png": "[encoded data removed]",
      "text/plain": [
       "<Figure size 432x288 with 1 Axes>"
      ]
     },
     "metadata": {
      "needs_background": "light"
     },
     "output_type": "display_data"
    }
   ],
   "source": [
    "from matplotlib import pyplot\n",
    "\n",
    "# Define the data\n",
    "data = [75, 46]\n",
    "\n",
    "# Define the x-axis labels\n",
    "labels = ['1', '0']\n",
    "\n",
    "# Create the bar plot\n",
    "pyplot.bar(labels, data)\n",
    "\n",
    "# Add labels\n",
    "pyplot.xlabel(\"Bars\")\n",
    "pyplot.ylabel(\"Values\")\n",
    "\n",
    "# Show the plot\n",
    "pyplot.show()\n"
   ]
  },
  {
   "cell_type": "code",
   "execution_count": null,
   "id": "57a1b712",
   "metadata": {},
   "outputs": [],
   "source": []
  }
 ],
 "metadata": {
  "kernelspec": {
   "display_name": "Python 3",
   "language": "python",
   "name": "python3"
  },
  "language_info": {
   "codemirror_mode": {
    "name": "ipython",
    "version": 3
   },
   "file_extension": ".py",
   "mimetype": "text/x-python",
   "name": "python",
   "nbconvert_exporter": "python",
   "pygments_lexer": "ipython3",
   "version": "3.9.5"
  }
 },
 "nbformat": 4,
 "nbformat_minor": 5
}
